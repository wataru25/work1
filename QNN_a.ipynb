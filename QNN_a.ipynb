{
 "cells": [
  {
   "cell_type": "markdown",
   "metadata": {
    "id": "xLOXFOT5Q40E"
   },
   "source": [
    "# 量子機械学習によるデフォルト予測"
   ]
  },
  {
   "cell_type": "markdown",
   "metadata": {
    "id": "X35qHdh5Gzqg"
   },
   "source": [
    "## セットアップ"
   ]
  },
  {
   "cell_type": "code",
   "execution_count": 64,
   "metadata": {
    "execution": {
     "iopub.execute_input": "2021-02-12T21:46:56.852104Z",
     "iopub.status.busy": "2021-02-12T21:46:56.851402Z",
     "iopub.status.idle": "2021-02-12T21:47:05.464928Z",
     "shell.execute_reply": "2021-02-12T21:47:05.464302Z"
    },
    "id": "enZ300Bflq80"
   },
   "outputs": [],
   "source": [
    "\n",
    "import tensorflow as tf\n",
    "import tensorflow_quantum as tfq\n",
    "\n",
    "import cirq\n",
    "import sympy\n",
    "import numpy as np\n",
    "import seaborn as sns\n",
    "import collections\n",
    "import pandas as pd\n",
    "import category_encoders as ce\n",
    "from sklearn.model_selection import train_test_split\n",
    "\n",
    "# visualization tools\n",
    "%matplotlib inline\n",
    "import matplotlib.pyplot as plt\n",
    "from cirq.contrib.svg import SVGCircuit\n",
    "\n",
    "#その他の設定\n"
   ]
  },
  {
   "cell_type": "markdown",
   "metadata": {
    "id": "b08Mmbs8lr81"
   },
   "source": [
    "## 1. データの読み込み"
   ]
  },
  {
   "cell_type": "code",
   "execution_count": 65,
   "metadata": {},
   "outputs": [],
   "source": [
    "main_path=\"C:/Users/finst/OneDrive/デスクトップ/wataru/13_仕事/量子機械学習/home-credit-default-risk\"\n",
    "path_all_data=main_path+\"/application.csv\" #特徴量データのパス\n",
    "path_testID=main_path+\"/test_key.csv\" #テストデータのID\n",
    "path_trainID=main_path+\"/train_key.csv\" #訓練データのID"
   ]
  },
  {
   "cell_type": "code",
   "execution_count": 66,
   "metadata": {
    "execution": {
     "iopub.execute_input": "2021-02-12T21:47:05.471139Z",
     "iopub.status.busy": "2021-02-12T21:47:05.470340Z",
     "iopub.status.idle": "2021-02-12T21:47:05.958603Z",
     "shell.execute_reply": "2021-02-12T21:47:05.957900Z"
    },
    "id": "d9OSExvCojg0"
   },
   "outputs": [
    {
     "data": {
      "text/plain": [
       "(307358, 121)"
      ]
     },
     "execution_count": 66,
     "metadata": {},
     "output_type": "execute_result"
    }
   ],
   "source": [
    "all_data = pd.read_csv(path_all_data)\n",
    "trainID = pd.read_csv(path_trainID)\n",
    "#IDがかぶっているもののみ抽出\n",
    "ID_overwrap = list(set(all_data.SK_ID_CURR) & set(trainID.SK_ID_CURR))\n",
    "all_data = all_data[all_data.SK_ID_CURR.isin(ID_overwrap)]\n",
    "trainID = trainID[trainID.SK_ID_CURR.isin(ID_overwrap)]\n",
    "\n",
    "#データサイズを確認\n",
    "all_data.shape"
   ]
  },
  {
   "cell_type": "markdown",
   "metadata": {
    "id": "pDUdGxn-ojgy"
   },
   "source": [
    "## 2. 前処理"
   ]
  },
  {
   "cell_type": "code",
   "execution_count": 67,
   "metadata": {},
   "outputs": [],
   "source": [
    "#FTロボでshap値が高いと判定した説明変数10個を使用\n",
    "\n",
    "#量的変数\n",
    "list_quantity=[\"EXT_SOURCE_1\",\"EXT_SOURCE_2\",\"EXT_SOURCE_3\",\"OWN_CAR_AGE\",\"YEARS_BUILD_MODE\",\"COMMONAREA_MODE\"\n",
    "              ,\"YEARS_BUILD_AVG\",\"CNT_FAM_MEMBERS\",\"AMT_GOODS_PRICE\",\"AMT_CREDIT\"]\n",
    "#質的変数\n",
    "list_quality = []\n",
    "#特段処理が不要な説明変数\n",
    "list_01 = []\n",
    "\n",
    "list_all = list_quantity\n",
    "list_all.extend(list_quality)\n",
    "list_all.extend(list_01)\n",
    "all_data = all_data[list_all]"
   ]
  },
  {
   "cell_type": "markdown",
   "metadata": {},
   "source": [
    "量的変数は平均値で埋めて標準化・正規化を行う．質的変数はone-hotに変換して-1,1のフラグに変換"
   ]
  },
  {
   "cell_type": "code",
   "execution_count": 68,
   "metadata": {},
   "outputs": [],
   "source": [
    "#量的変数の前処理\n",
    "for col in list_quantity:\n",
    "    all_data[col]=all_data[col].fillna(all_data[col].mean())\n",
    "    all_data[col]=(all_data[col]-all_data[col].mean())/all_data[col].std()\n",
    "    all_data[col]=all_data[col]/max(all_data[col].abs())"
   ]
  },
  {
   "cell_type": "code",
   "execution_count": 69,
   "metadata": {},
   "outputs": [],
   "source": [
    "#質的変数の前処理\n",
    "ce_ohe = ce.OneHotEncoder(cols=list_quality,handle_unknown='impute')\n",
    "all_data = ce_ohe.fit_transform(all_data)"
   ]
  },
  {
   "cell_type": "markdown",
   "metadata": {},
   "source": [
    "外れ値処理：量的変数で2σを超える点は除去"
   ]
  },
  {
   "cell_type": "code",
   "execution_count": 70,
   "metadata": {
    "scrolled": true
   },
   "outputs": [],
   "source": [
    "#外れ値の処理\n",
    "def outlier_2s(df):\n",
    "\n",
    "    for i in list_quantity:\n",
    "\n",
    "        # 列を抽出する\n",
    "        col = df[i]\n",
    "\n",
    "        # 平均と標準偏差\n",
    "        average = np.mean(col)\n",
    "        sd = np.std(col)\n",
    "\n",
    "        # 外れ値の基準点\n",
    "        outlier_min = average - (sd) * 2\n",
    "        outlier_max = average + (sd) * 2\n",
    "\n",
    "        # 範囲から外れている値を除く\n",
    "        df[df[i]<outlier_min]=None\n",
    "        df[df[i]>outlier_max]=None\n",
    "\n",
    "        \n",
    "    df = df.dropna(how='any', axis=0)\n",
    "\n",
    "    return df\n",
    "\n",
    "TARGET = trainID[\"TARGET\"].tolist()\n",
    "all_data[\"TARGET\"]=TARGET\n",
    "all_data = outlier_2s(all_data)"
   ]
  },
  {
   "cell_type": "markdown",
   "metadata": {},
   "source": [
    "テストデータと訓練データの分割し，アンダーサンプリング"
   ]
  },
  {
   "cell_type": "code",
   "execution_count": 71,
   "metadata": {},
   "outputs": [],
   "source": [
    "TARGET = all_data[\"TARGET\"]\n",
    "all_data = all_data.drop(\"TARGET\",axis=1)\n",
    "\n",
    "X_train, X_test, y_train, y_test = train_test_split(all_data, TARGET, test_size=0.3, random_state=0)\n",
    "#1の数が圧倒的少ないので，割合を調整\n",
    "\n",
    "from imblearn.under_sampling import RandomUnderSampler\n",
    "# クラス1の数を保存\n",
    "count_train_class_one = int(y_train.sum())\n",
    "# クラス1が全体の10％になるまでクラス0を減らす\n",
    "under = RandomUnderSampler(sampling_strategy={0:count_train_class_one, 1:count_train_class_one}, random_state=100)\n",
    "\n",
    "# 学習用データに反映\n",
    "X_train, y_train = under.fit_resample(X_train, y_train)\n",
    "\n",
    "#古典NNのためにデータを保存\n",
    "X_train_c, X_test_c, y_train_c, y_test_c=X_train, X_test, y_train, y_test"
   ]
  },
  {
   "cell_type": "markdown",
   "metadata": {},
   "source": [
    "#### 【量子回路への変換】"
   ]
  },
  {
   "cell_type": "code",
   "execution_count": 72,
   "metadata": {
    "execution": {
     "iopub.execute_input": "2021-02-12T21:47:06.863174Z",
     "iopub.status.busy": "2021-02-12T21:47:06.824492Z",
     "iopub.status.idle": "2021-02-12T21:47:08.736770Z",
     "shell.execute_reply": "2021-02-12T21:47:08.736090Z"
    },
    "id": "aOu_3-3ZGL61"
   },
   "outputs": [],
   "source": [
    "def convert_to_circuit(credit_info):\n",
    "    qubits = cirq.GridQubit.rect(len(credit_info), 1)\n",
    "    circuit = cirq.Circuit()\n",
    "    for i, value in enumerate(credit_info):\n",
    "        if value:\n",
    "            circuit.append(cirq.X(qubits[i]))\n",
    "    return circuit\n",
    "\n",
    "X_train = X_train.values.tolist()\n",
    "X_test = X_test.values.tolist()"
   ]
  },
  {
   "cell_type": "code",
   "execution_count": 73,
   "metadata": {},
   "outputs": [],
   "source": [
    "x_train_circ = [convert_to_circuit(x) for x in X_train]\n",
    "x_test_circ = [convert_to_circuit(x) for x in X_test]"
   ]
  },
  {
   "cell_type": "code",
   "execution_count": 74,
   "metadata": {
    "execution": {
     "iopub.execute_input": "2021-02-12T21:47:08.841947Z",
     "iopub.status.busy": "2021-02-12T21:47:08.836937Z",
     "iopub.status.idle": "2021-02-12T21:47:12.946481Z",
     "shell.execute_reply": "2021-02-12T21:47:12.945795Z"
    },
    "id": "IZStEMk4ojhk"
   },
   "outputs": [],
   "source": [
    "x_train_tfcirc = tfq.convert_to_tensor(x_train_circ)\n",
    "x_test_tfcirc = tfq.convert_to_tensor(x_test_circ)"
   ]
  },
  {
   "cell_type": "markdown",
   "metadata": {
    "id": "4USiqeOqGL67"
   },
   "source": [
    "## 2. 量子ニューラルネットワーク\n",
    "\n",
    "画像を分類する量子回路構造に関するガイダンスはほとんどありません。分類は読み出されるキュービットの期待に基づいて行われるため、<a href=\"https://arxiv.org/pdf/1802.06002.pdf\" class=\"external\">Farhi et al.</a> は、2 つのキュービットゲートを使用して、読み出しキュービットが必ず作用されるようにすることを提案しています。これはある意味、ピクセル全体に小さな<a href=\"https://arxiv.org/abs/1511.06464\" class=\"external\">ユニタリ RNN</a>を実行することに似ています。"
   ]
  },
  {
   "cell_type": "markdown",
   "metadata": {
    "id": "knIzawEeojho"
   },
   "source": [
    "### 2.1 モデル回路を構築する\n",
    "\n",
    "次の例では、このレイヤー化アプローチを説明しています。各レイヤーは同一ゲートの *n* 個のインスタンスを使用しており、各データキュービットは読み出しキュービットに影響を与えています。\n",
    "\n",
    "ゲートのレイヤーを回路に追加する簡単なクラスから始めましょう。"
   ]
  },
  {
   "cell_type": "code",
   "execution_count": 75,
   "metadata": {
    "execution": {
     "iopub.execute_input": "2021-02-12T21:47:12.953327Z",
     "iopub.status.busy": "2021-02-12T21:47:12.952536Z",
     "iopub.status.idle": "2021-02-12T21:47:12.954836Z",
     "shell.execute_reply": "2021-02-12T21:47:12.954293Z"
    },
    "id": "-hjxxgU5ojho"
   },
   "outputs": [],
   "source": [
    "class CircuitLayerBuilder():\n",
    "    def __init__(self, data_qubits, readout):\n",
    "        self.data_qubits = data_qubits\n",
    "        self.readout = readout\n",
    "    \n",
    "    def add_layer(self, circuit, gate, prefix):\n",
    "        for i, qubit in enumerate(self.data_qubits):\n",
    "            symbol = sympy.Symbol(prefix + '-' + str(i))\n",
    "            circuit.append(gate(qubit, self.readout)**symbol)"
   ]
  },
  {
   "cell_type": "markdown",
   "metadata": {
    "id": "T-QhPE1pojhu"
   },
   "source": [
    "では、2 レイヤーモデルを構築しましょう。 データ回路サイズに一致するようにし、準備と読み出し演算を含めます。"
   ]
  },
  {
   "cell_type": "code",
   "execution_count": 83,
   "metadata": {
    "execution": {
     "iopub.execute_input": "2021-02-12T21:47:13.098934Z",
     "iopub.status.busy": "2021-02-12T21:47:13.098236Z",
     "iopub.status.idle": "2021-02-12T21:47:13.100221Z",
     "shell.execute_reply": "2021-02-12T21:47:13.099728Z"
    },
    "id": "JiALbpwRGL69"
   },
   "outputs": [],
   "source": [
    "def create_quantum_model():\n",
    "    \"\"\"Create a QNN model circuit and readout operation to go along with it.\"\"\"\n",
    "    data_qubits = cirq.GridQubit.rect(len(X_train[0]), 1)  \n",
    "    readout = cirq.GridQubit(-1, -1)         # a single qubit at [-1,-1]\n",
    "    circuit = cirq.Circuit()\n",
    "    \n",
    "    # Prepare the readout qubit.\n",
    "    circuit.append(cirq.X(readout))\n",
    "    circuit.append(cirq.H(readout))\n",
    "    \n",
    "    builder = CircuitLayerBuilder(\n",
    "        data_qubits = data_qubits,\n",
    "        readout=readout)\n",
    "\n",
    "    # Then add layers (experiment by adding more).\n",
    "    builder.add_layer(circuit, cirq.XX, \"xx1\")\n",
    "    builder.add_layer(circuit, cirq.ZZ, \"zz1\")\n",
    "    builder.add_layer(circuit, cirq.XX, \"xx2\")\n",
    "\n",
    "    # Finally, prepare the readout qubit.\n",
    "    circuit.append(cirq.H(readout))\n",
    "\n",
    "    return circuit, cirq.Z(readout)"
   ]
  },
  {
   "cell_type": "code",
   "execution_count": 84,
   "metadata": {
    "execution": {
     "iopub.execute_input": "2021-02-12T21:47:13.117552Z",
     "iopub.status.busy": "2021-02-12T21:47:13.116825Z",
     "iopub.status.idle": "2021-02-12T21:47:13.118922Z",
     "shell.execute_reply": "2021-02-12T21:47:13.118424Z"
    },
    "id": "2QZvVh7vojhx"
   },
   "outputs": [],
   "source": [
    "model_circuit, model_readout = create_quantum_model()"
   ]
  },
  {
   "cell_type": "markdown",
   "metadata": {
    "id": "LY7vbY6yfABE"
   },
   "source": [
    "### 2.2 tfq-keras モデルでモデル回路をラップする\n",
    "\n",
    "量子コンポーネントで Keras モデルを構築します。このモデルには、古典的なデータをエンコードする「量子データ」が `x_train_circ` からフィードされます。*パラメータ化された量子回路*レイヤーの `tfq.layers.PQC` を使用して、量子データでモデル回路をトレーニングするモデルです。\n",
    "\n",
    "<a href=\"https://arxiv.org/pdf/1802.06002.pdf\" class=\"external\">Farhi et al.</a> は、画像を分類するには、パラメータ化された回路で読み出しキュービットの期待値を使用することを提案しています。期待値は、1 から -1 の値です。"
   ]
  },
  {
   "cell_type": "code",
   "execution_count": 85,
   "metadata": {
    "execution": {
     "iopub.execute_input": "2021-02-12T21:47:13.125437Z",
     "iopub.status.busy": "2021-02-12T21:47:13.123050Z",
     "iopub.status.idle": "2021-02-12T21:47:14.138442Z",
     "shell.execute_reply": "2021-02-12T21:47:14.138925Z"
    },
    "id": "ZYdf_KOxojh0"
   },
   "outputs": [],
   "source": [
    "# Build the Keras model.\n",
    "model = tf.keras.Sequential([\n",
    "    # The input is the data-circuit, encoded as a tf.string\n",
    "    tf.keras.layers.Input(shape=(), dtype=tf.string),\n",
    "    # The PQC layer returns the expected value of the readout gate, range [-1,1].\n",
    "    tfq.layers.PQC(model_circuit, model_readout),\n",
    "])"
   ]
  },
  {
   "cell_type": "markdown",
   "metadata": {
    "id": "jz-FbVc9ojh3"
   },
   "source": [
    "次に、`compile` メソッドを使用して、モデルにトレーニング手順を指定します。\n",
    "\n",
    "期待される読み出しは `[-1,1]` の範囲であるため、ヒンジ損失を最適化すると、ある程度自然な適合となります。\n",
    "\n",
    "注意: もう 1 つの有効なアプローチとして、出力範囲を `[0,1]` にシフトし、モデルがクラス `3` に割りてる確率として扱う方法があります。これは、標準的な`tf.losses.BinaryCrossentropy` 損失で使用することができます。\n",
    "\n",
    "ここでヒンジ損失を使用するには、小さな調整を 2 つ行う必要があります。まず、ラベル `y_train_nocon` をブール型からヒンジ損失が期待する `[-1,1]` に変換することです。"
   ]
  },
  {
   "cell_type": "code",
   "execution_count": 86,
   "metadata": {
    "execution": {
     "iopub.execute_input": "2021-02-12T21:47:14.144266Z",
     "iopub.status.busy": "2021-02-12T21:47:14.143270Z",
     "iopub.status.idle": "2021-02-12T21:47:14.145667Z",
     "shell.execute_reply": "2021-02-12T21:47:14.146100Z"
    },
    "id": "CgMNkC1Fojh5"
   },
   "outputs": [],
   "source": [
    "y_train_hinge = 2.0*y_train-1.0\n",
    "y_test_hinge = 2.0*y_test-1.0"
   ]
  },
  {
   "cell_type": "markdown",
   "metadata": {
    "id": "5nwnveDiojh7"
   },
   "source": [
    "次に、`[-1, 1]` を `y_true` ラベル引数として正しく処理するカスタムの `hinge_accuracy` メトリックを使用します。`tf.losses.BinaryAccuracy(threshold=0.0)` は `y_true` がブール型であることを期待するため、ヒンジ損失とは使用できません。"
   ]
  },
  {
   "cell_type": "code",
   "execution_count": 87,
   "metadata": {
    "execution": {
     "iopub.execute_input": "2021-02-12T21:47:14.152616Z",
     "iopub.status.busy": "2021-02-12T21:47:14.151434Z",
     "iopub.status.idle": "2021-02-12T21:47:14.154049Z",
     "shell.execute_reply": "2021-02-12T21:47:14.153410Z"
    },
    "id": "3XKtZ_TEojh8"
   },
   "outputs": [],
   "source": [
    "def hinge_accuracy(y_true, y_pred):\n",
    "    y_true = tf.squeeze(y_true) > 0.0\n",
    "    y_pred = tf.squeeze(y_pred) > 0.0\n",
    "    result = tf.cast(y_true == y_pred, tf.float32)\n",
    "\n",
    "    return tf.reduce_mean(result)"
   ]
  },
  {
   "cell_type": "code",
   "execution_count": 88,
   "metadata": {
    "execution": {
     "iopub.execute_input": "2021-02-12T21:47:14.165022Z",
     "iopub.status.busy": "2021-02-12T21:47:14.163932Z",
     "iopub.status.idle": "2021-02-12T21:47:14.181630Z",
     "shell.execute_reply": "2021-02-12T21:47:14.181097Z"
    },
    "id": "FlpETlLRojiA"
   },
   "outputs": [],
   "source": [
    "model.compile(\n",
    "    loss=tf.keras.losses.Hinge(),\n",
    "    optimizer=tf.keras.optimizers.Adam(),\n",
    "    metrics=[hinge_accuracy])"
   ]
  },
  {
   "cell_type": "code",
   "execution_count": 89,
   "metadata": {
    "execution": {
     "iopub.execute_input": "2021-02-12T21:47:14.187525Z",
     "iopub.status.busy": "2021-02-12T21:47:14.186673Z",
     "iopub.status.idle": "2021-02-12T21:47:14.190129Z",
     "shell.execute_reply": "2021-02-12T21:47:14.189639Z"
    },
    "id": "jkHq2RstojiC"
   },
   "outputs": [
    {
     "name": "stdout",
     "output_type": "stream",
     "text": [
      "Model: \"sequential_10\"\n",
      "_________________________________________________________________\n",
      "Layer (type)                 Output Shape              Param #   \n",
      "=================================================================\n",
      "pqc_3 (PQC)                  (None, 1)                 30        \n",
      "=================================================================\n",
      "Total params: 30\n",
      "Trainable params: 30\n",
      "Non-trainable params: 0\n",
      "_________________________________________________________________\n",
      "None\n"
     ]
    }
   ],
   "source": [
    "print(model.summary())"
   ]
  },
  {
   "cell_type": "markdown",
   "metadata": {
    "id": "lsuOzDYblA9s"
   },
   "source": [
    "### 量子モデルをトレーニングする\n",
    "\n",
    "では、モデルをトレーニングしましょう。これには約 45 分かかりますが、その時間を待てない方は、小規模なデータのサブセット（以下の`NUM_EXAMPLES=500` セット）を使用するとよいでしょう。トレーニング時のモデルの進捗にあまり影響はありません（パラメータは 32 しかなく、これらを制約する上であまりデータは必要ありません）。サンプル数を減らすことでトレーニングを早めに（5 分程度）終わらせることができますが、検証ログに進捗状況を示すには十分な長さです。"
   ]
  },
  {
   "cell_type": "code",
   "execution_count": 90,
   "metadata": {
    "execution": {
     "iopub.execute_input": "2021-02-12T21:47:14.194907Z",
     "iopub.status.busy": "2021-02-12T21:47:14.193896Z",
     "iopub.status.idle": "2021-02-12T21:47:14.196533Z",
     "shell.execute_reply": "2021-02-12T21:47:14.196052Z"
    },
    "id": "n8vuQpSLlBV2"
   },
   "outputs": [],
   "source": [
    "EPOCHS = 3\n",
    "BATCH_SIZE = 128"
   ]
  },
  {
   "cell_type": "markdown",
   "metadata": {
    "id": "QMSdgGC1GL7D"
   },
   "source": [
    "このモデルを収束までトレーニングすると、テストセットにおいて 85% を超える精度が達成されます。"
   ]
  },
  {
   "cell_type": "code",
   "execution_count": 91,
   "metadata": {
    "execution": {
     "iopub.execute_input": "2021-02-12T21:47:14.211232Z",
     "iopub.status.busy": "2021-02-12T21:47:14.208064Z",
     "iopub.status.idle": "2021-02-12T21:55:12.617657Z",
     "shell.execute_reply": "2021-02-12T21:55:12.616947Z"
    },
    "id": "Ya9qP3KkojiM"
   },
   "outputs": [
    {
     "name": "stdout",
     "output_type": "stream",
     "text": [
      "Train on 16326 samples, validate on 50711 samples\n",
      "Epoch 1/3\n",
      "16326/16326 [==============================] - 93s 6ms/sample - loss: 1.0003 - hinge_accuracy: 0.5000 - val_loss: 0.8803 - val_hinge_accuracy: 0.9324\n",
      "Epoch 2/3\n",
      "16326/16326 [==============================] - 102s 6ms/sample - loss: 1.0004 - hinge_accuracy: 0.5002 - val_loss: 0.9022 - val_hinge_accuracy: 0.9324\n",
      "Epoch 3/3\n",
      "16326/16326 [==============================] - 100s 6ms/sample - loss: 1.0002 - hinge_accuracy: 0.5003 - val_loss: 0.8967 - val_hinge_accuracy: 0.9324\n",
      "50711/50711 [==============================] - 15s 301us/sample - loss: 0.8967 - hinge_accuracy: 0.9325\n"
     ]
    }
   ],
   "source": [
    "qnn_history = model.fit(\n",
    "      x_train_tfcirc, y_train_hinge,\n",
    "      batch_size=BATCH_SIZE,\n",
    "      epochs=EPOCHS,\n",
    "      verbose=1,\n",
    "      validation_data=(x_test_tfcirc, y_test_hinge))\n",
    "\n",
    "qnn_results = model.evaluate(x_test_tfcirc, y_test)"
   ]
  },
  {
   "cell_type": "code",
   "execution_count": 92,
   "metadata": {},
   "outputs": [
    {
     "data": {
      "text/plain": [
       "array([[-0.11944741],\n",
       "       [-0.11944741],\n",
       "       [-0.11944741],\n",
       "       ...,\n",
       "       [-0.11944741],\n",
       "       [-0.11944741],\n",
       "       [-0.11944741]], dtype=float32)"
      ]
     },
     "execution_count": 92,
     "metadata": {},
     "output_type": "execute_result"
    }
   ],
   "source": [
    "model.predict(x_test_tfcirc)"
   ]
  },
  {
   "cell_type": "markdown",
   "metadata": {
    "id": "3ER7B7aaojiP"
   },
   "source": [
    "注意: トレーニング精度はエポックの平均値を示します。検証精度はエポックの終了ごとに評価されます。"
   ]
  },
  {
   "cell_type": "markdown",
   "metadata": {
    "id": "8952YvuWGL7J"
   },
   "source": [
    "## 3. 従来のニューラルネットワーク\n",
    "\n",
    "量子ニューラルネットワークは、この単純化された MNIST 問題で機能するものの、このタスクでは、従来のニューラルネットワークの性能が QNN をはるかに上回ります。1 つのエポックが終了した時点で、従来のニューラルネットワークは縮小したセットで 98% を超える精度を達成することができます。\n",
    "\n",
    "次の例では、画像をサブサンプリングする代わりに 28x28 の画像を使用した 3 と 6 の分類問題に従来のニューラルネットワークを使用しています。これはほぼ 100% 精度のテストセットに難なく収束します。"
   ]
  },
  {
   "cell_type": "code",
   "execution_count": 47,
   "metadata": {
    "execution": {
     "iopub.execute_input": "2021-02-12T21:55:12.629267Z",
     "iopub.status.busy": "2021-02-12T21:55:12.628113Z",
     "iopub.status.idle": "2021-02-12T21:55:12.715962Z",
     "shell.execute_reply": "2021-02-12T21:55:12.715222Z"
    },
    "id": "pZofEHhLGL7L"
   },
   "outputs": [
    {
     "name": "stdout",
     "output_type": "stream",
     "text": [
      "Model: \"sequential_7\"\n",
      "_________________________________________________________________\n",
      "Layer (type)                 Output Shape              Param #   \n",
      "=================================================================\n",
      "dense_18 (Dense)             (None, 2)                 22        \n",
      "_________________________________________________________________\n",
      "dropout_6 (Dropout)          (None, 2)                 0         \n",
      "_________________________________________________________________\n",
      "dense_19 (Dense)             (None, 1)                 3         \n",
      "=================================================================\n",
      "Total params: 25\n",
      "Trainable params: 25\n",
      "Non-trainable params: 0\n",
      "_________________________________________________________________\n"
     ]
    }
   ],
   "source": [
    "def create_classical_model():\n",
    "    # A simple model based off LeNet from https://keras.io/examples/mnist_cnn/\n",
    "    model = tf.keras.Sequential()\n",
    "    #model.add(tf.keras.layers.Conv2D(32, [3, 3], activation='relu', input_shape=(28,28,1)))\n",
    "    #model.add(tf.keras.layers.Conv2D(64, [3, 3], activation='relu'))\n",
    "    #model.add(tf.keras.layers.MaxPooling2D(pool_size=(2, 2)))\n",
    "    #model.add(tf.keras.layers.Dropout(0.25))\n",
    "    #model.add(tf.keras.layers.Flatten())\n",
    "    model.add(tf.keras.layers.Dense(2, activation='relu',input_shape = (10,)))\n",
    "    model.add(tf.keras.layers.Dropout(0.5))\n",
    "    #model.add(tf.keras.layers.Dense(2, activation='relu'))\n",
    "    model.add(tf.keras.layers.Dense(1))\n",
    "    return model\n",
    "\n",
    "\n",
    "model = create_classical_model()\n",
    "model.compile(loss=tf.keras.losses.BinaryCrossentropy(from_logits=True),\n",
    "              optimizer=tf.keras.optimizers.Adam(),\n",
    "              metrics=['accuracy'])\n",
    "\n",
    "model.summary()"
   ]
  },
  {
   "cell_type": "code",
   "execution_count": 48,
   "metadata": {
    "execution": {
     "iopub.execute_input": "2021-02-12T21:55:12.721646Z",
     "iopub.status.busy": "2021-02-12T21:55:12.720947Z",
     "iopub.status.idle": "2021-02-12T21:55:22.054724Z",
     "shell.execute_reply": "2021-02-12T21:55:22.055201Z"
    },
    "id": "CiAJl7sZojiU"
   },
   "outputs": [
    {
     "name": "stdout",
     "output_type": "stream",
     "text": [
      "Train on 16326 samples, validate on 50711 samples\n",
      "16326/16326 [==============================] - 1s 31us/sample - loss: 0.6929 - accuracy: 0.5000 - val_loss: 0.6978 - val_accuracy: 0.9325\n",
      "50711/50711 [==============================] - 1s 11us/sample - loss: 0.6978 - accuracy: 0.9325\n"
     ]
    }
   ],
   "source": [
    "model.fit(X_train_c,\n",
    "          y_train_c,\n",
    "          batch_size=128,\n",
    "          epochs=1,\n",
    "          verbose=1,\n",
    "          validation_data=(X_test_c, y_test_c))\n",
    "\n",
    "cnn_results = model.evaluate(X_test_c, y_test_c)"
   ]
  },
  {
   "cell_type": "code",
   "execution_count": 50,
   "metadata": {},
   "outputs": [
    {
     "data": {
      "text/plain": [
       "array([[0.0172871 ],\n",
       "       [0.02673261],\n",
       "       [0.03948604],\n",
       "       ...,\n",
       "       [0.01117367],\n",
       "       [0.054725  ],\n",
       "       [0.02474005]], dtype=float32)"
      ]
     },
     "execution_count": 50,
     "metadata": {},
     "output_type": "execute_result"
    }
   ],
   "source": [
    "model.predict(X_test_c)"
   ]
  },
  {
   "cell_type": "markdown",
   "metadata": {
    "id": "RH3mam7EGL7N"
   },
   "source": [
    "## 4. 比較\n",
    "\n",
    "解像度の高い入力とより強力なモデルの場合、CNN はこの問題を簡単に解決できますが、似たようなパワー（最大 32 個のパラメータ）を持つ古典的モデルはわずかな時間で似たような精度までトレーニングすることができます。いずれにせよ、従来のニューラルネットワークは量子ニューラルネットワークの性能を簡単に上回ります。古典的なデータでは、従来のニューラルネットワークを上回るのは困難といえます。"
   ]
  },
  {
   "cell_type": "code",
   "execution_count": 40,
   "metadata": {
    "execution": {
     "iopub.execute_input": "2021-02-12T21:55:24.779995Z",
     "iopub.status.busy": "2021-02-12T21:55:24.761298Z",
     "iopub.status.idle": "2021-02-12T21:55:24.869075Z",
     "shell.execute_reply": "2021-02-12T21:55:24.868509Z"
    },
    "id": "NOMeN7pMGL7P"
   },
   "outputs": [
    {
     "name": "stderr",
     "output_type": "stream",
     "text": [
      "C:\\ProgramData\\Anaconda3\\envs\\quantum\\lib\\site-packages\\seaborn\\_decorators.py:43: FutureWarning: Pass the following variables as keyword args: x, y. From version 0.12, the only valid positional argument will be `data`, and passing other arguments without an explicit keyword will result in an error or misinterpretation.\n",
      "  FutureWarning\n"
     ]
    },
    {
     "data": {
      "text/plain": [
       "<AxesSubplot:>"
      ]
     },
     "execution_count": 40,
     "metadata": {},
     "output_type": "execute_result"
    },
    {
     "data": {
      "image/png": "[encoded data removed]",
      "text/plain": [
       "<Figure size 432x288 with 1 Axes>"
      ]
     },
     "metadata": {
      "needs_background": "light"
     },
     "output_type": "display_data"
    }
   ],
   "source": [
    "qnn_accuracy = qnn_results[1]\n",
    "cnn_accuracy = cnn_results[1]\n",
    "\n",
    "\n",
    "sns.barplot([\"Quantum\", \"Classical, full\"],\n",
    "            [qnn_accuracy, cnn_accuracy ])"
   ]
  }
 ],
 "metadata": {
  "colab": {
   "collapsed_sections": [],
   "name": "mnist.ipynb",
   "toc_visible": true
  },
  "kernelspec": {
   "display_name": "Python 3 (ipykernel)",
   "language": "python",
   "name": "python3"
  },
  "language_info": {
   "codemirror_mode": {
    "name": "ipython",
    "version": 3
   },
   "file_extension": ".py",
   "mimetype": "text/x-python",
   "name": "python",
   "nbconvert_exporter": "python",
   "pygments_lexer": "ipython3",
   "version": "3.7.9"
  }
 },
 "nbformat": 4,
 "nbformat_minor": 1
}
